{
 "cells": [
  {
   "cell_type": "markdown",
   "metadata": {},
   "source": [
    "# Learning .NET Interactive Notebooks."
   ]
  },
  {
   "cell_type": "markdown",
   "metadata": {},
   "source": [
    "As in other languages, there are existing APIs that you can use in the C# language and to be able to reference the classes and methods defined in those APIs you need to make your program aware of those APIs. And to do this in C# you adde the `using` directive at the top of your file. That directive is equivalent to the `import` in Go.\r\n",
    "\r\n",
    "In the example below we make a combination of the `using` directive and the `static` key work. The `using` directive brings in the `System` namespace, while the `static` keyword allows you to specify a static class so you can call its methods directly in the current file."
   ]
  },
  {
   "cell_type": "code",
   "execution_count": 1,
   "metadata": {},
   "source": [
    "using static System.Console;\r\n",
    "WriteLine(\"Hello Rob\");"
   ],
   "outputs": [
    {
     "output_type": "execute_result",
     "data": {
      "text/plain": "Hello Rob\r\n"
     },
     "execution_count": 1,
     "metadata": {}
    }
   ]
  },
  {
   "cell_type": "markdown",
   "metadata": {},
   "source": [
    "The next example shows how to use the `foreach` keywork to iterate over a list of names:"
   ]
  },
  {
   "cell_type": "code",
   "execution_count": 1,
   "metadata": {},
   "source": [
    "foreach(string name in new string[] {\"Gandalf, Bilbo and Beorn\"}) {WriteLine(name);}"
   ],
   "outputs": [
    {
     "output_type": "execute_result",
     "data": {
      "text/plain": "Gandalf, Bilbo and Beorn\r\n"
     },
     "execution_count": 1,
     "metadata": {}
    }
   ]
  }
 ],
 "metadata": {
  "kernelspec": {
   "display_name": ".NET (C#)",
   "language": "C#",
   "name": ".net-csharp"
  },
  "language_info": {
   "file_extension": ".cs",
   "mimetype": "text/x-csharp",
   "name": "C#",
   "pygments_lexer": "csharp",
   "version": "8.0"
  }
 },
 "nbformat": 4,
 "nbformat_minor": 4
}