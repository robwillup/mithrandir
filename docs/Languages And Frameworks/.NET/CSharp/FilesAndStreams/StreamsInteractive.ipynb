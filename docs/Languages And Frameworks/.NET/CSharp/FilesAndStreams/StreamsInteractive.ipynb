{
  "cells": [
    {
      "cell_type": "markdown",
      "metadata": {},
      "source": [
        "# Streams in C#\n",
        "\n",
        "From the Microsoft documentation:\n",
        "\n",
        ">Stream is the abstract base class of all streams. A stream is an abstraction of a sequence of bytes, such as a file, an input/output device, an inter-process communication pipe, or a TCP/IP socket.\n",
        "\n",
        "## MemoryStream\n",
        "\n",
        "Creates a stream whose backing store is memory.\n",
        ""
      ]
    },
    {
      "cell_type": "code",
      "execution_count": 1,
      "metadata": {
        "dotnet_interactive": {
          "language": "csharp"
        }
      },
      "source": [
        "/*\n",
        "These are using statements.\n",
        "They make external code available to the current file.\n",
        "Similar to `import` in Golang and `include` in C.\n",
        "*/\n",
        "using static System.Console; // the `static` keywork allows us to call the members of a static class directly.\n",
        "using System.IO; // Contains types that allow reading and writing to files and data streams, and types that provide basic file and directly support.\n",
        "using System.Text; // Contains classes that represent ASCII and Unicode character encoding.\n",
        "\n",
        "UnicodeEncoding unicodeEncoding = new UnicodeEncoding(); // We instantiate the `UnicodeEncoding` class that represents UTF-16 encoding of Unicode characters.\n",
        "\n",
        "byte[] encodedName = unicodeEncoding.GetBytes(\"The Hobbit\"); // a string of unicode characters is encoded into a byte array\n",
        "\n",
        "using (MemoryStream memoryStream = new MemoryStream(encodedName)){}; // create an instance of MemoryStream to hold our byte array\n",
        "\n",
        "byte[] decodedName = memoryStream.ToArray(); // The memory stream is decoded back into a byte array\n",
        "char[] characters = new char[unicodeEncoding.GetCharCount(decodedName, 0, decodedName.Length)]; // a char array is created to hold the decoded byte array\n",
        "unicodeEncoding.GetChars(decodedName, 0, decodedName.Length, characters, 0); // the byte array is decoded into a char array\n",
        "\n",
        "Write(new string(characters)); // a new string is created from the char array and then written to the console.\n",
        ""
      ],
      "outputs": [
        {
          "output_type": "execute_result",
          "data": {
            "text/plain": "The Hobbit"
          },
          "execution_count": 1,
          "metadata": {}
        }
      ]
    },
    {
      "cell_type": "markdown",
      "metadata": {},
      "source": [
        ""
      ]
    }
  ],
  "metadata": {
    "kernelspec": {
      "display_name": ".NET (C#)",
      "language": "C#",
      "name": ".net-csharp"
    },
    "language_info": {
      "file_extension": ".cs",
      "mimetype": "text/x-csharp",
      "name": "C#",
      "pygments_lexer": "csharp",
      "version": "8.0"
    }
  },
  "nbformat": 4,
  "nbformat_minor": 4
}